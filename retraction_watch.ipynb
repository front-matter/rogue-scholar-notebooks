{
 "cells": [
  {
   "cell_type": "raw",
   "id": "1bfd85f4-f949-4632-8ae4-268373ab6375",
   "metadata": {},
   "source": [
    "---\n",
    "title: Retraction Watch\n",
    "author: \n",
    "  name: Martin Fenner\n",
    "  orcid: \"0000-0003-1419-2405\"\n",
    "date: \"2023-10-11\"\n",
    "format: \n",
    "  html:\n",
    "    code-fold: false\n",
    "jupyter: python3\n",
    "bibliography: references.bib\n",
    "csl: apa.csl\n",
    "nocite: |\n",
    "  @*\n",
    "---"
   ]
  },
  {
   "cell_type": "markdown",
   "id": "02a6e7d3-b4c1-40f0-bcba-5eb1b8fae0c6",
   "metadata": {},
   "source": [
    "## Introduction\n",
    "\n",
    "This notebook uses the [Rogue Scholar](https://rogue-scholar.org) science blog archive to search for science blog posts, \n",
    "retrieve the results, and format them. We are interested in book reviews published in 2023.\n",
    "\n",
    ":::{.callout-note}\n",
    "* We use the query `retraction watch`.\n",
    "* We limit results to posts published since `2010` (the year Retraction Watch launched) and `en` as language.\n",
    "* We retrieve the `title`, `authors`, `publication date`, `abstract`, `blog name`, and `doi`\n",
    "* We sort the results in reverse chronological order (newest first)\n",
    ":::"
   ]
  },
  {
   "cell_type": "code",
   "execution_count": 5,
   "id": "9e14d79b-fa58-4961-9046-8d1926ef91ef",
   "metadata": {
    "scrolled": true
   },
   "outputs": [],
   "source": [
    "import requests\n",
    "import pydash as py_\n",
    "from markdown_it import MarkdownIt\n",
    "baseUrl = \"https://api.rogue-scholar.org/\"\n",
    "query = \"retraction watch\"\n",
    "include_fields = \"title,authors,published_at,summary,blog_name,doi\"\n",
    "url = baseUrl + f\"posts?query={query.replace(' ', '+')}&published_since=2010&language=en&sort=published_at&order=desc&per_page=50&include_fields={include_fields}\"\n",
    "response = requests.get(url)\n",
    "result = response.json()\n",
    "\n",
    "# Some results removed after manual curation\n",
    "curated = [1,3,9,12,16]\n",
    "found = result[\"found\"]\n",
    "out_of = result[\"out_of\"]\n",
    "\n",
    "def get_post(post):\n",
    "    return post[\"document\"]\n",
    "\n",
    "def format_post(post):\n",
    "    md = MarkdownIt('commonmark' ,{'breaks':True,'html':True})\n",
    "    title = post[\"title\"]\n",
    "    blog = post[\"blog_name\"]\n",
    "    url = post.get(\"doi\", \"\")\n",
    "    summary = post[\"summary\"]\n",
    "    return f\"### {title}\\nPublished in {blog}\\n{url}\\n{summary}\\n\"  # md.render\n",
    "\n",
    "posts = [ get_post(x) for i, x in enumerate(result[\"hits\"]) if i not in curated ]\n",
    "posts_as_string = \"\\n\".join([ format_post(x) for x in posts])"
   ]
  },
  {
   "cell_type": "code",
   "execution_count": null,
   "id": "2d016170-83a5-4919-8015-8e3f349d4b03",
   "metadata": {},
   "outputs": [],
   "source": [
    "# Get bibtex-formatted metadata for all posts\n",
    "def get_bibtex(post):\n",
    "    doi = doi_from_url(post[\"doi\"])\n",
    "    res = requests.get(baseUrl + \"posts/\" + doi + \"?format=bibtex\")\n",
    "    return res.text\n",
    "\n",
    "bibtex = \"\\n\".join([ get_bibtex(x) for x in posts if x.get(\"doi\", None) is not None ])\n",
    "with open('references.bib', 'w') as f:\n",
    "    f.write(bibtex)\n"
   ]
  },
  {
   "cell_type": "markdown",
   "id": "2c052d0a-64ce-4730-86da-b36862268d6d",
   "metadata": {},
   "source": [
    "## Results\n",
    "\n",
    "We found 17 blog posts mentioning `retraction watch` out of 9086 total posts, and ended up with 12 posts after manual curation:\n",
    "\n",
    "```{mermaid}\n",
    "flowchart LR\n",
    "  A[9086] -- Query: retraction watch --> B(17)\n",
    "  B -- Manual curation --> C(12)\n",
    "```\n",
    "\n",
    "```{Python}\n",
    "\n",
    "```\n",
    "\n",
    "## References\n"
   ]
  },
  {
   "cell_type": "code",
   "execution_count": null,
   "id": "e848906c-36c8-496a-b7eb-dc98b0c7efac",
   "metadata": {},
   "outputs": [],
   "source": [
    "print(posts_as_string)"
   ]
  },
  {
   "cell_type": "code",
   "execution_count": null,
   "id": "c1c16cde-de69-48be-b731-5314c9e587db",
   "metadata": {},
   "outputs": [],
   "source": []
  }
 ],
 "metadata": {
  "kernelspec": {
   "display_name": "Python 3 (ipykernel)",
   "language": "python",
   "name": "python3"
  },
  "language_info": {
   "codemirror_mode": {
    "name": "ipython",
    "version": 3
   },
   "file_extension": ".py",
   "mimetype": "text/x-python",
   "name": "python",
   "nbconvert_exporter": "python",
   "pygments_lexer": "ipython3",
   "version": "3.11.5"
  }
 },
 "nbformat": 4,
 "nbformat_minor": 5
}
