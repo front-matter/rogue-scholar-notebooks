{
 "cells": [
  {
   "cell_type": "raw",
   "id": "1bfd85f4-f949-4632-8ae4-268373ab6375",
   "metadata": {},
   "source": [
    "---\n",
    "title: Retraction Watch\n",
    "description: |\n",
    "  This notebook finds Rogue Scholar blog posts about the Retraction Watch \n",
    "  project using the Rogue Scholar API.\n",
    "date: \"2023-11-10\"\n",
    "image: \"/images/photo-1552425083-0117136f7d67.jpeg\"\n",
    "bibliography: references.json\n",
    "nocite: |\n",
    "  @*\n",
    "---"
   ]
  },
  {
   "cell_type": "markdown",
   "id": "02a6e7d3-b4c1-40f0-bcba-5eb1b8fae0c6",
   "metadata": {},
   "source": [
    "## Introduction\n",
    "\n",
    "This notebook finds Rogue Scholar blog posts about the Retraction Watch project using the [Rogue Scholar API](https://api.rogue-scholar.org/posts). [Retraction Watch](https://retractionwatch.com/) reports on retractions of scientific papers. the project was started in 2010 by Ivan Oransky and Adam Marcus.\n",
    "\n",
    ":::{.callout-note}\n",
    "* We use the query `retraction watch`.\n",
    "* We limit results to posts published since `2010` (the year Retraction Watch launched) and `en` as language.\n",
    "* We retrieve the `title`, `authors`, `publication date`, `abstract`, `blog name`, `blog_slug`, and `doi`\n",
    "* We sort the results in reverse chronological order (newest first)\n",
    ":::\n",
    "\n",
    "## Results\n",
    "\n",
    "We found 22 blog posts mentioning `retraction watch` out of 10560 total posts, and ended up with 12 posts after manual curation:\n",
    "\n",
    "```{mermaid}\n",
    "flowchart LR\n",
    "  A[10560] -- Query: retraction watch --> B(22)\n",
    "  B -- Manual curation --> C(12)\n",
    "```"
   ]
  },
  {
   "cell_type": "code",
   "execution_count": 12,
   "id": "9e14d79b-fa58-4961-9046-8d1926ef91ef",
   "metadata": {
    "scrolled": true
   },
   "outputs": [
    {
     "ename": "JSONDecodeError",
     "evalue": "Expecting value: line 1 column 1 (char 0)",
     "output_type": "error",
     "traceback": [
      "\u001b[0;31m---------------------------------------------------------------------------\u001b[0m",
      "\u001b[0;31mJSONDecodeError\u001b[0m                           Traceback (most recent call last)",
      "File \u001b[0;32m~/Documents/syldavia-gazette/.venv/lib/python3.11/site-packages/requests/models.py:971\u001b[0m, in \u001b[0;36mResponse.json\u001b[0;34m(self, **kwargs)\u001b[0m\n\u001b[1;32m    970\u001b[0m \u001b[39mtry\u001b[39;00m:\n\u001b[0;32m--> 971\u001b[0m     \u001b[39mreturn\u001b[39;00m complexjson\u001b[39m.\u001b[39;49mloads(\u001b[39mself\u001b[39;49m\u001b[39m.\u001b[39;49mtext, \u001b[39m*\u001b[39;49m\u001b[39m*\u001b[39;49mkwargs)\n\u001b[1;32m    972\u001b[0m \u001b[39mexcept\u001b[39;00m JSONDecodeError \u001b[39mas\u001b[39;00m e:\n\u001b[1;32m    973\u001b[0m     \u001b[39m# Catch JSON-related errors and raise as requests.JSONDecodeError\u001b[39;00m\n\u001b[1;32m    974\u001b[0m     \u001b[39m# This aliases json.JSONDecodeError and simplejson.JSONDecodeError\u001b[39;00m\n",
      "File \u001b[0;32m~/Documents/syldavia-gazette/.venv/lib/python3.11/site-packages/simplejson/__init__.py:514\u001b[0m, in \u001b[0;36mloads\u001b[0;34m(s, encoding, cls, object_hook, parse_float, parse_int, parse_constant, object_pairs_hook, use_decimal, allow_nan, **kw)\u001b[0m\n\u001b[1;32m    510\u001b[0m \u001b[39mif\u001b[39;00m (\u001b[39mcls\u001b[39m \u001b[39mis\u001b[39;00m \u001b[39mNone\u001b[39;00m \u001b[39mand\u001b[39;00m encoding \u001b[39mis\u001b[39;00m \u001b[39mNone\u001b[39;00m \u001b[39mand\u001b[39;00m object_hook \u001b[39mis\u001b[39;00m \u001b[39mNone\u001b[39;00m \u001b[39mand\u001b[39;00m\n\u001b[1;32m    511\u001b[0m         parse_int \u001b[39mis\u001b[39;00m \u001b[39mNone\u001b[39;00m \u001b[39mand\u001b[39;00m parse_float \u001b[39mis\u001b[39;00m \u001b[39mNone\u001b[39;00m \u001b[39mand\u001b[39;00m\n\u001b[1;32m    512\u001b[0m         parse_constant \u001b[39mis\u001b[39;00m \u001b[39mNone\u001b[39;00m \u001b[39mand\u001b[39;00m object_pairs_hook \u001b[39mis\u001b[39;00m \u001b[39mNone\u001b[39;00m\n\u001b[1;32m    513\u001b[0m         \u001b[39mand\u001b[39;00m \u001b[39mnot\u001b[39;00m use_decimal \u001b[39mand\u001b[39;00m \u001b[39mnot\u001b[39;00m allow_nan \u001b[39mand\u001b[39;00m \u001b[39mnot\u001b[39;00m kw):\n\u001b[0;32m--> 514\u001b[0m     \u001b[39mreturn\u001b[39;00m _default_decoder\u001b[39m.\u001b[39;49mdecode(s)\n\u001b[1;32m    515\u001b[0m \u001b[39mif\u001b[39;00m \u001b[39mcls\u001b[39m \u001b[39mis\u001b[39;00m \u001b[39mNone\u001b[39;00m:\n",
      "File \u001b[0;32m~/Documents/syldavia-gazette/.venv/lib/python3.11/site-packages/simplejson/decoder.py:386\u001b[0m, in \u001b[0;36mJSONDecoder.decode\u001b[0;34m(self, s, _w, _PY3)\u001b[0m\n\u001b[1;32m    385\u001b[0m     s \u001b[39m=\u001b[39m \u001b[39mstr\u001b[39m(s, \u001b[39mself\u001b[39m\u001b[39m.\u001b[39mencoding)\n\u001b[0;32m--> 386\u001b[0m obj, end \u001b[39m=\u001b[39m \u001b[39mself\u001b[39;49m\u001b[39m.\u001b[39;49mraw_decode(s)\n\u001b[1;32m    387\u001b[0m end \u001b[39m=\u001b[39m _w(s, end)\u001b[39m.\u001b[39mend()\n",
      "File \u001b[0;32m~/Documents/syldavia-gazette/.venv/lib/python3.11/site-packages/simplejson/decoder.py:416\u001b[0m, in \u001b[0;36mJSONDecoder.raw_decode\u001b[0;34m(self, s, idx, _w, _PY3)\u001b[0m\n\u001b[1;32m    415\u001b[0m         idx \u001b[39m+\u001b[39m\u001b[39m=\u001b[39m \u001b[39m3\u001b[39m\n\u001b[0;32m--> 416\u001b[0m \u001b[39mreturn\u001b[39;00m \u001b[39mself\u001b[39;49m\u001b[39m.\u001b[39;49mscan_once(s, idx\u001b[39m=\u001b[39;49m_w(s, idx)\u001b[39m.\u001b[39;49mend())\n",
      "\u001b[0;31mJSONDecodeError\u001b[0m: Expecting value: line 1 column 1 (char 0)",
      "\nDuring handling of the above exception, another exception occurred:\n",
      "\u001b[0;31mJSONDecodeError\u001b[0m                           Traceback (most recent call last)",
      "\u001b[1;32m/Users/mfenner/Documents/syldavia-gazette/notebooks/retraction_watch.ipynb Zelle 3\u001b[0m line \u001b[0;36m6\n\u001b[1;32m     <a href='vscode-notebook-cell:/Users/mfenner/Documents/syldavia-gazette/notebooks/retraction_watch.ipynb#W2sZmlsZQ%3D%3D?line=60'>61</a>\u001b[0m     csl[\u001b[39m\"\u001b[39m\u001b[39mtype\u001b[39m\u001b[39m\"\u001b[39m] \u001b[39m=\u001b[39m \u001b[39m\"\u001b[39m\u001b[39marticle\u001b[39m\u001b[39m\"\u001b[39m\n\u001b[1;32m     <a href='vscode-notebook-cell:/Users/mfenner/Documents/syldavia-gazette/notebooks/retraction_watch.ipynb#W2sZmlsZQ%3D%3D?line=61'>62</a>\u001b[0m     \u001b[39mreturn\u001b[39;00m json\u001b[39m.\u001b[39mdumps(csl, indent\u001b[39m=\u001b[39m\u001b[39m2\u001b[39m)\n\u001b[0;32m---> <a href='vscode-notebook-cell:/Users/mfenner/Documents/syldavia-gazette/notebooks/retraction_watch.ipynb#W2sZmlsZQ%3D%3D?line=63'>64</a>\u001b[0m csl_list \u001b[39m=\u001b[39m \u001b[39m\"\u001b[39m\u001b[39m[\u001b[39m\u001b[39m\\n\u001b[39;00m\u001b[39m\"\u001b[39m \u001b[39m+\u001b[39m \u001b[39m\"\u001b[39m\u001b[39m,\u001b[39m\u001b[39m\\n\u001b[39;00m\u001b[39m\"\u001b[39m\u001b[39m.\u001b[39mjoin([ get_csl(x) \u001b[39mfor\u001b[39;49;00m x \u001b[39min\u001b[39;49;00m posts \u001b[39mif\u001b[39;49;00m x\u001b[39m.\u001b[39;49mget(\u001b[39m\"\u001b[39;49m\u001b[39mdoi\u001b[39;49m\u001b[39m\"\u001b[39;49m, \u001b[39mNone\u001b[39;49;00m) \u001b[39mis\u001b[39;49;00m \u001b[39mnot\u001b[39;49;00m \u001b[39mNone\u001b[39;49;00m ]) \u001b[39m+\u001b[39m \u001b[39m\"\u001b[39m\u001b[39m\\n\u001b[39;00m\u001b[39m]\u001b[39m\u001b[39m\"\u001b[39m\n\u001b[1;32m     <a href='vscode-notebook-cell:/Users/mfenner/Documents/syldavia-gazette/notebooks/retraction_watch.ipynb#W2sZmlsZQ%3D%3D?line=64'>65</a>\u001b[0m \u001b[39mwith\u001b[39;00m \u001b[39mopen\u001b[39m(\u001b[39m'\u001b[39m\u001b[39mreferences.json\u001b[39m\u001b[39m'\u001b[39m, \u001b[39m'\u001b[39m\u001b[39mw\u001b[39m\u001b[39m'\u001b[39m) \u001b[39mas\u001b[39;00m f:\n\u001b[1;32m     <a href='vscode-notebook-cell:/Users/mfenner/Documents/syldavia-gazette/notebooks/retraction_watch.ipynb#W2sZmlsZQ%3D%3D?line=65'>66</a>\u001b[0m     f\u001b[39m.\u001b[39mwrite(csl_list)\n",
      "\u001b[1;32m/Users/mfenner/Documents/syldavia-gazette/notebooks/retraction_watch.ipynb Zelle 3\u001b[0m line \u001b[0;36m6\n\u001b[1;32m     <a href='vscode-notebook-cell:/Users/mfenner/Documents/syldavia-gazette/notebooks/retraction_watch.ipynb#W2sZmlsZQ%3D%3D?line=60'>61</a>\u001b[0m     csl[\u001b[39m\"\u001b[39m\u001b[39mtype\u001b[39m\u001b[39m\"\u001b[39m] \u001b[39m=\u001b[39m \u001b[39m\"\u001b[39m\u001b[39marticle\u001b[39m\u001b[39m\"\u001b[39m\n\u001b[1;32m     <a href='vscode-notebook-cell:/Users/mfenner/Documents/syldavia-gazette/notebooks/retraction_watch.ipynb#W2sZmlsZQ%3D%3D?line=61'>62</a>\u001b[0m     \u001b[39mreturn\u001b[39;00m json\u001b[39m.\u001b[39mdumps(csl, indent\u001b[39m=\u001b[39m\u001b[39m2\u001b[39m)\n\u001b[0;32m---> <a href='vscode-notebook-cell:/Users/mfenner/Documents/syldavia-gazette/notebooks/retraction_watch.ipynb#W2sZmlsZQ%3D%3D?line=63'>64</a>\u001b[0m csl_list \u001b[39m=\u001b[39m \u001b[39m\"\u001b[39m\u001b[39m[\u001b[39m\u001b[39m\\n\u001b[39;00m\u001b[39m\"\u001b[39m \u001b[39m+\u001b[39m \u001b[39m\"\u001b[39m\u001b[39m,\u001b[39m\u001b[39m\\n\u001b[39;00m\u001b[39m\"\u001b[39m\u001b[39m.\u001b[39mjoin([ get_csl(x) \u001b[39mfor\u001b[39;00m x \u001b[39min\u001b[39;00m posts \u001b[39mif\u001b[39;00m x\u001b[39m.\u001b[39mget(\u001b[39m\"\u001b[39m\u001b[39mdoi\u001b[39m\u001b[39m\"\u001b[39m, \u001b[39mNone\u001b[39;00m) \u001b[39mis\u001b[39;00m \u001b[39mnot\u001b[39;00m \u001b[39mNone\u001b[39;00m ]) \u001b[39m+\u001b[39m \u001b[39m\"\u001b[39m\u001b[39m\\n\u001b[39;00m\u001b[39m]\u001b[39m\u001b[39m\"\u001b[39m\n\u001b[1;32m     <a href='vscode-notebook-cell:/Users/mfenner/Documents/syldavia-gazette/notebooks/retraction_watch.ipynb#W2sZmlsZQ%3D%3D?line=64'>65</a>\u001b[0m \u001b[39mwith\u001b[39;00m \u001b[39mopen\u001b[39m(\u001b[39m'\u001b[39m\u001b[39mreferences.json\u001b[39m\u001b[39m'\u001b[39m, \u001b[39m'\u001b[39m\u001b[39mw\u001b[39m\u001b[39m'\u001b[39m) \u001b[39mas\u001b[39;00m f:\n\u001b[1;32m     <a href='vscode-notebook-cell:/Users/mfenner/Documents/syldavia-gazette/notebooks/retraction_watch.ipynb#W2sZmlsZQ%3D%3D?line=65'>66</a>\u001b[0m     f\u001b[39m.\u001b[39mwrite(csl_list)\n",
      "\u001b[1;32m/Users/mfenner/Documents/syldavia-gazette/notebooks/retraction_watch.ipynb Zelle 3\u001b[0m line \u001b[0;36m5\n\u001b[1;32m     <a href='vscode-notebook-cell:/Users/mfenner/Documents/syldavia-gazette/notebooks/retraction_watch.ipynb#W2sZmlsZQ%3D%3D?line=51'>52</a>\u001b[0m doi \u001b[39m=\u001b[39m doi_from_url(post[\u001b[39m\"\u001b[39m\u001b[39mdoi\u001b[39m\u001b[39m\"\u001b[39m])\n\u001b[1;32m     <a href='vscode-notebook-cell:/Users/mfenner/Documents/syldavia-gazette/notebooks/retraction_watch.ipynb#W2sZmlsZQ%3D%3D?line=52'>53</a>\u001b[0m res \u001b[39m=\u001b[39m requests\u001b[39m.\u001b[39mget(baseUrl \u001b[39m+\u001b[39m \u001b[39m\"\u001b[39m\u001b[39mposts/\u001b[39m\u001b[39m\"\u001b[39m \u001b[39m+\u001b[39m doi \u001b[39m+\u001b[39m \u001b[39m\"\u001b[39m\u001b[39m?format=csl\u001b[39m\u001b[39m\"\u001b[39m)\n\u001b[0;32m---> <a href='vscode-notebook-cell:/Users/mfenner/Documents/syldavia-gazette/notebooks/retraction_watch.ipynb#W2sZmlsZQ%3D%3D?line=53'>54</a>\u001b[0m csl \u001b[39m=\u001b[39m res\u001b[39m.\u001b[39;49mjson()\n\u001b[1;32m     <a href='vscode-notebook-cell:/Users/mfenner/Documents/syldavia-gazette/notebooks/retraction_watch.ipynb#W2sZmlsZQ%3D%3D?line=55'>56</a>\u001b[0m \u001b[39m# remove keys not compatible with CSL spec\u001b[39;00m\n\u001b[1;32m     <a href='vscode-notebook-cell:/Users/mfenner/Documents/syldavia-gazette/notebooks/retraction_watch.ipynb#W2sZmlsZQ%3D%3D?line=56'>57</a>\u001b[0m csl \u001b[39m=\u001b[39m py_\u001b[39m.\u001b[39momit(csl, [\u001b[39m\"\u001b[39m\u001b[39mlicense\u001b[39m\u001b[39m\"\u001b[39m, \u001b[39m\"\u001b[39m\u001b[39moriginal-title\u001b[39m\u001b[39m\"\u001b[39m])\n",
      "File \u001b[0;32m~/Documents/syldavia-gazette/.venv/lib/python3.11/site-packages/requests/models.py:975\u001b[0m, in \u001b[0;36mResponse.json\u001b[0;34m(self, **kwargs)\u001b[0m\n\u001b[1;32m    971\u001b[0m     \u001b[39mreturn\u001b[39;00m complexjson\u001b[39m.\u001b[39mloads(\u001b[39mself\u001b[39m\u001b[39m.\u001b[39mtext, \u001b[39m*\u001b[39m\u001b[39m*\u001b[39mkwargs)\n\u001b[1;32m    972\u001b[0m \u001b[39mexcept\u001b[39;00m JSONDecodeError \u001b[39mas\u001b[39;00m e:\n\u001b[1;32m    973\u001b[0m     \u001b[39m# Catch JSON-related errors and raise as requests.JSONDecodeError\u001b[39;00m\n\u001b[1;32m    974\u001b[0m     \u001b[39m# This aliases json.JSONDecodeError and simplejson.JSONDecodeError\u001b[39;00m\n\u001b[0;32m--> 975\u001b[0m     \u001b[39mraise\u001b[39;00m RequestsJSONDecodeError(e\u001b[39m.\u001b[39mmsg, e\u001b[39m.\u001b[39mdoc, e\u001b[39m.\u001b[39mpos)\n",
      "\u001b[0;31mJSONDecodeError\u001b[0m: Expecting value: line 1 column 1 (char 0)"
     ]
    }
   ],
   "source": [
    "#| label: query-retraction-watch\n",
    "\n",
    "import requests\n",
    "import locale\n",
    "import json\n",
    "import pydash as py_\n",
    "import re\n",
    "import html\n",
    "from typing import Optional\n",
    "import datetime\n",
    "from IPython.display import Markdown\n",
    "locale.setlocale(locale.LC_ALL, \"en_US\")\n",
    "baseUrl = \"https://api.rogue-scholar.org/\"\n",
    "query = \"retraction watch\"\n",
    "published_since = \"2010\"\n",
    "feature_image = 0\n",
    "curated = [1,2,3,9,12,16]\n",
    "\n",
    "include_fields = \"title,authors,published_at,summary,blog_name,blog_slug,doi,url,image\"\n",
    "url = baseUrl + f\"posts?query={query.replace(' ', '+')}&published_since=2010&language=en&sort=published_at&order=desc&per_page=50&include_fields={include_fields}\"\n",
    "response = requests.get(url)\n",
    "result = response.json()\n",
    "\n",
    "def get_post(post):\n",
    "    return post[\"document\"]\n",
    "\n",
    "def format_post(post):\n",
    "    doi = post.get(\"doi\", None)\n",
    "    url = f\"[{doi}]({doi})\\n<br />\" if doi else \"\"\n",
    "    title = f\"[{post['title']}]({doi})\" if doi else f\"[{post['title']}]({post['url']})\"\n",
    "    published_at = datetime.datetime.utcfromtimestamp(post[\"published_at\"]).strftime(\"%B %-d, %Y\")\n",
    "    blog = f\"[{post['blog_name']}](https://rogue-scholar.org/blogs/{post['blog_slug']})\"\n",
    "    author = \", \".join([ f\"{x['name']}\" for x in post.get(\"authors\", None) or [] ])\n",
    "    summary = post[\"summary\"]\n",
    "    return f\"### {title}\\n{url}Published {published_at} in {blog}<br />{author}<br /><br />{summary}\\n\"\n",
    "\n",
    "posts = [ get_post(x) for i, x in enumerate(result[\"hits\"]) if i not in curated]\n",
    "posts_as_string = \"\\n\".join([ format_post(x) for x in posts])\n",
    "\n",
    "def doi_from_url(url: str) -> Optional[str]:\n",
    "    \"\"\"Return a DOI from a URL\"\"\"\n",
    "    match = re.search(\n",
    "        r\"\\A(?:(http|https)://(dx\\.)?(doi\\.org|handle\\.stage\\.datacite\\.org|handle\\.test\\.datacite\\.org)/)?(doi:)?(10\\.\\d{4,5}/.+)\\Z\",\n",
    "        url,\n",
    "    )\n",
    "    if match is None:\n",
    "        return None\n",
    "    return match.group(5).lower()\n",
    "\n",
    "# Get csl-formatted metadata for all posts that have a DOI\n",
    "def get_csl(post):\n",
    "    doi = doi_from_url(post[\"doi\"])\n",
    "    res = requests.get(baseUrl + \"posts/\" + doi + \"?format=csl\")\n",
    "    csl = res.json()\n",
    "    \n",
    "    # remove keys not compatible with CSL spec\n",
    "    csl = py_.omit(csl, [\"license\", \"original-title\"])\n",
    "    csl[\"id\"] = post[\"doi\"]\n",
    "    csl[\"title\"] = html.unescape(post[\"title\"])\n",
    "    csl[\"container-title\"] = post[\"blog_name\"]\n",
    "    csl[\"type\"] = \"article\"\n",
    "    return json.dumps(csl, indent=2)\n",
    "\n",
    "csl_list = \"[\\n\" + \",\\n\".join([ get_csl(x) for x in posts if x.get(\"doi\", None) is not None ]) + \"\\n]\"\n",
    "with open('references.json', 'w') as f:\n",
    "    f.write(csl_list)\n",
    "\n",
    "images = [ x[\"image\"] for x in posts if x.get(\"image\", None) is not None ]\n",
    "image = images[feature_image]\n",
    "markdown = f\"![]({image})\\n\\n\"\n",
    "markdown += posts_as_string\n",
    "Markdown(markdown)"
   ]
  },
  {
   "cell_type": "markdown",
   "id": "c1c16cde-de69-48be-b731-5314c9e587db",
   "metadata": {},
   "source": [
    "## References\n",
    "\n",
    "::: {#refs}\n",
    ":::"
   ]
  }
 ],
 "metadata": {
  "kernelspec": {
   "display_name": "Python 3 (ipykernel)",
   "language": "python",
   "name": "python3"
  },
  "language_info": {
   "codemirror_mode": {
    "name": "ipython",
    "version": 3
   },
   "file_extension": ".py",
   "mimetype": "text/x-python",
   "name": "python",
   "nbconvert_exporter": "python",
   "pygments_lexer": "ipython3",
   "version": "3.11.5"
  }
 },
 "nbformat": 4,
 "nbformat_minor": 5
}
